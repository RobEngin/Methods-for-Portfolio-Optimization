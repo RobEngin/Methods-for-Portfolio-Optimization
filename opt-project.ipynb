{
 "cells": [
  {
   "cell_type": "markdown",
   "metadata": {},
   "source": [
    "# Optimization Project"
   ]
  },
  {
   "cell_type": "markdown",
   "metadata": {},
   "source": [
    "In this Jupyter notebook, we will be using the Frank-Wolfe optimization algorithm to minimize the variance function of a portfolio in Markowitz's portfolio theory. Markowitz's theory focuses on optimizing investment portfolios by considering the trade-off between expected returns and risk. The variance function represents the risk component of the portfolio, and by minimizing it, we aim to find the optimal allocation of assets that balances risk and return. The Frank-Wolfe algorithm is an iterative optimization method that iteratively finds the direction of steepest descent to minimize the objective function. By applying this algorithm to the portfolio variance function, we can determine an efficient portfolio allocation that maximizes returns while minimizing risk. Let's dive into the details and explore the power of the Frank-Wolfe algorithm for portfolio optimization."
   ]
  },
  {
   "cell_type": "code",
   "execution_count": 1,
   "metadata": {},
   "outputs": [],
   "source": [
    "from scipy.optimize import linprog\n",
    "import matplotlib.pyplot as plt\n",
    "from scipy.optimize import minimize\n",
    "from sympy import hessian\n",
    "import numdifftools as nd\n",
    "import pandas as pd\n",
    "import numpy as np\n",
    "import scipy"
   ]
  },
  {
   "cell_type": "code",
   "execution_count": 2,
   "metadata": {},
   "outputs": [],
   "source": [
    "PORTFOLIOS = [\"EUROSTOXX_50\", \"FTSE_100\", \"MIBTEL_295\", \"SP_500\", \"NASDAQ\"] \n",
    "PORTFOLIO = PORTFOLIOS[2] #CHANGE\n",
    "RISK_AVERSION = 0.02"
   ]
  },
  {
   "cell_type": "code",
   "execution_count": 3,
   "metadata": {},
   "outputs": [],
   "source": [
    "# Read the text file\n",
    "name = pd.read_csv(PORTFOLIO+'/data/list.txt', delimiter='\\t')\n",
    "price_time = np.loadtxt(PORTFOLIO+'/data/price_time.txt', delimiter='\\t')\n",
    "ret_time = np.loadtxt(PORTFOLIO+'/data/Ret_time.txt', delimiter='\\t')\n",
    "ret_mean = np.loadtxt(PORTFOLIO+'/data/MRet.txt', delimiter='\\t')\n",
    "cov = np.loadtxt(PORTFOLIO+'/data/Cov.txt', delimiter='\\t')\n",
    "time = pd.read_csv(PORTFOLIO+'/data/time.txt', delimiter='\\t')\n",
    "\n",
    "# Solution\n",
    "ret_risk = pd.read_csv(PORTFOLIO+'/solutions/RetRisk_SolVal.txt', delimiter='\\t')\n",
    "\n",
    "# Other variable\n",
    "nStocks = len(name) + 1"
   ]
  },
  {
   "cell_type": "markdown",
   "metadata": {},
   "source": [
    "## Portfolios Data"
   ]
  },
  {
   "cell_type": "code",
   "execution_count": 4,
   "metadata": {},
   "outputs": [
    {
     "name": "stdout",
     "output_type": "stream",
     "text": [
      "Portfolio: MIBTEL_295 \n",
      "N. Stock: 226\n",
      "From: 17-Mar-2003  To: 24-Mar-2008 \n"
     ]
    },
    {
     "data": {
      "image/png": "[encoded data removed]",
      "text/plain": [
       "<Figure size 432x288 with 1 Axes>"
      ]
     },
     "metadata": {
      "needs_background": "light"
     },
     "output_type": "display_data"
    }
   ],
   "source": [
    "# Print Portfolio data\n",
    "print(f\"Portfolio: {PORTFOLIO} \\nN. Stock: {nStocks}\")\n",
    "print(f\"From: {time.iloc[0, 0]} To: {time.iloc[-1, 0]}\")\n",
    "\n",
    "plt.hist(ret_mean, bins=30, edgecolor='black')\n",
    "plt.xlabel('Returns')\n",
    "plt.ylabel('Frequency')\n",
    "plt.title('Returns Distribution')\n",
    "plt.show()"
   ]
  },
  {
   "cell_type": "code",
   "execution_count": 5,
   "metadata": {},
   "outputs": [
    {
     "name": "stdout",
     "output_type": "stream",
     "text": [
      "B: [1.]\n",
      "1.0000000000000009\n"
     ]
    },
    {
     "data": {
      "text/plain": [
       "True"
      ]
     },
     "execution_count": 5,
     "metadata": {},
     "output_type": "execute_result"
    }
   ],
   "source": [
    "#Choose x1 in C\n",
    "def generate_random_array(n):\n",
    "    random_nums = np.random.rand(n)\n",
    "    total = np.sum(random_nums)\n",
    "    random_array = random_nums / total\n",
    "    return random_array\n",
    "\n",
    "e = np.ones((nStocks, 1))\n",
    "weights = generate_random_array(nStocks)\n",
    "\n",
    "print(f\"B: {np.dot(e.T, weights)}\")\n",
    "print(sum(weights))\n",
    "np.all(weights > 0)"
   ]
  },
  {
   "cell_type": "code",
   "execution_count": 6,
   "metadata": {},
   "outputs": [
    {
     "data": {
      "image/png": "[encoded data removed]",
      "text/plain": [
       "<Figure size 720x432 with 1 Axes>"
      ]
     },
     "metadata": {
      "needs_background": "light"
     },
     "output_type": "display_data"
    }
   ],
   "source": [
    "port_returns = []\n",
    "port_volatility = []\n",
    "\n",
    "for idx, w in enumerate(weights):\n",
    "    port_returns.append(np.dot(w, ret_mean[idx]))\n",
    "\n",
    "port_volatility = np.diag(np.dot(np.dot(cov, np.diag(weights)), cov.T))\n",
    "\n",
    "plt.figure(figsize=(10, 6))\n",
    "plt.scatter(port_volatility, port_returns, marker='o', color='b', s=10, alpha=0.5)\n",
    "plt.xlabel('Volatility')\n",
    "plt.ylabel('Return')\n",
    "plt.title('Efficient Frontier')\n",
    "plt.grid(True)\n",
    "plt.show()"
   ]
  },
  {
   "cell_type": "markdown",
   "metadata": {},
   "source": [
    "# Portfolio Optimizations"
   ]
  },
  {
   "cell_type": "markdown",
   "metadata": {},
   "source": [
    "We have $n$ avaiable assets. We call $w_i$ the quantity of money invested on the\n",
    "$i$-th asset during the considered period and with $r_i$ the returns on the $i$-th\n",
    "asset. We have two different constraints. The first one is non-negativity for the\n",
    "variables (i.e., $w_i$ ≥ 0). It basically means that short selling (selling asset that\n",
    "we still don’t own) is not allowed. We then have the budget constraint:"
   ]
  },
  {
   "cell_type": "markdown",
   "metadata": {},
   "source": [
    "$\n",
    "\\begin{equation}\n",
    "\\sum_{i=1}^{n} w_i = B\n",
    "\\end{equation}\n",
    "$\n",
    "\n"
   ]
  },
  {
   "cell_type": "markdown",
   "metadata": {},
   "source": [
    "the total amount of money invested needs to be equal to the budget $B$ ($B$ can be simply set to 1).\n",
    "Consider a stochastic model for the returns: $r ∈ R^n$ is a randomly generated vector with mean $\\overline{r}$ and covariance $\\Sigma$. Thus expected return will be:\n",
    "$\n",
    "\\begin{equation}\n",
    "\\overline{r}^\\intercal \\, w\n",
    "\\end{equation}\n",
    "$\n",
    "and variance (risk)\n",
    "$\n",
    "\\begin{equation}\n",
    "w^\\intercal \\, \\Sigma \\, w\n",
    "\\end{equation}\n",
    "$\n",
    "Classic portfolio problem, described by Markowitz (1952), is a convex quadratic programming problem:\n",
    "$\n",
    "\\begin{equation}\n",
    "\\begin{split}\n",
    "\\underset{w∈R^n}{min} \\quad \\gamma \\, w^\\intercal \\, \\Sigma \\, w - \\overline{r}^\\intercal \\, w \\\\\n",
    "s.t. \\quad e^\\intercal w = 1 \\\\\n",
    "w > 0\n",
    "\\end{split}\n",
    "\\end{equation} \n",
    "$\n",
    "with $\\gamma$ > 0 risk-aversion parameter. Goal is thus finding the set of assets that\n",
    "minimizes the variance (risk connected to the given portfolio) while maximizing\n",
    "the expected return (we obviously need to satisfy budget and non-negativity\n",
    "constraints)."
   ]
  },
  {
   "cell_type": "code",
   "execution_count": 7,
   "metadata": {},
   "outputs": [],
   "source": [
    "def checkMinRet(weights):\n",
    "    return np.dot(ret_mean.T, weights)\n",
    "\n",
    "def checkSumOne(weights):\n",
    "    return np.sum(weights) - 1"
   ]
  },
  {
   "cell_type": "code",
   "execution_count": 8,
   "metadata": {},
   "outputs": [],
   "source": [
    "def riskFunction(weights):\n",
    "    return np.dot(w.T, np.dot(cov, weights))\n",
    "\n",
    "def loss(weights):\n",
    "    return RISK_AVERSION * np.dot(weights.T, np.dot(cov, weights)) - np.dot(ret_mean.T, weights)"
   ]
  },
  {
   "cell_type": "markdown",
   "metadata": {},
   "source": [
    "### Hessian and Lipschitz constant\n",
    "Those functions are used to calculate the Hessian matrix and the Lipschitz constat for the whole problem, and for the single variable."
   ]
  },
  {
   "cell_type": "code",
   "execution_count": 9,
   "metadata": {},
   "outputs": [],
   "source": [
    "def lipschitz_constant(hessian):\n",
    "    return scipy.linalg.eigh(hessian, subset_by_index=(len(hessian)-1, len(hessian)-1))[0][0]\n",
    "    \n",
    "def is_strongly_convex(hessian):\n",
    "    return scipy.linalg.eigh(hessian, subset_by_index=(0,0))[0][0]"
   ]
  },
  {
   "cell_type": "code",
   "execution_count": 10,
   "metadata": {},
   "outputs": [
    {
     "name": "stdout",
     "output_type": "stream",
     "text": [
      "Hessian matrix\n",
      "Calculating sigma (strongly convex)\n",
      "Sigma: -7.325283316591871e-15, not strongly convex\n",
      "Lipschitz constant: 0.004971788705017177\n",
      "Lipschitz constant for single variable\n",
      "CPU times: user 2min 51s, sys: 1.86 s, total: 2min 52s\n",
      "Wall time: 23 s\n"
     ]
    }
   ],
   "source": [
    "%%time\n",
    "print(\"Hessian matrix\")\n",
    "hessian = nd.Hessian(loss)(weights)\n",
    "\n",
    "print(\"Calculating sigma (strongly convex)\")\n",
    "sigma = is_strongly_convex(hessian)\n",
    "is_sc = sigma > 0\n",
    "\n",
    "if is_sc: print(f\"Sigma: {sigma}, strongly convex\")\n",
    "else: print(f\"Sigma: {sigma}, not strongly convex\")\n",
    "\n",
    "L = lipschitz_constant(hessian)\n",
    "print(f\"Lipschitz constant: {L}\")\n",
    "\n",
    "print(\"Lipschitz constant for single variable\")\n",
    "Li = np.repeat(L, len(hessian))"
   ]
  },
  {
   "cell_type": "markdown",
   "metadata": {},
   "source": [
    "## Projected Gradient Descent"
   ]
  },
  {
   "cell_type": "markdown",
   "metadata": {},
   "source": [
    "$\n",
    "\\begin{equation}\n",
    "\\nabla f(w_k) = 2 \\, \\gamma \\, \\Sigma \\, w - \\overline{r}^\\intercal\\\\\n",
    "\\end{equation} \n",
    "$"
   ]
  },
  {
   "cell_type": "code",
   "execution_count": 11,
   "metadata": {},
   "outputs": [],
   "source": [
    "def gradient(w):\n",
    "    return RISK_AVERSION * 2 * np.dot(cov, w) - ret_mean"
   ]
  },
  {
   "cell_type": "code",
   "execution_count": 12,
   "metadata": {},
   "outputs": [],
   "source": [
    "from scipy.optimize import minimize\n",
    "\n",
    "bounds = tuple([(0, 1) for _ in range(nStocks)])\n",
    "constraints = ( {'type':'eq', 'fun': checkMinRet}, {'type':'eq', 'fun': checkSumOne} )\n",
    "\n",
    "w_opt = minimize(loss, weights, method=\"SLSQP\", bounds=bounds, constraints=constraints)"
   ]
  },
  {
   "cell_type": "code",
   "execution_count": 13,
   "metadata": {},
   "outputs": [
    {
     "data": {
      "text/plain": [
       "1.0"
      ]
     },
     "execution_count": 13,
     "metadata": {},
     "output_type": "execute_result"
    }
   ],
   "source": [
    "sum(w_opt.x)"
   ]
  },
  {
   "cell_type": "markdown",
   "metadata": {},
   "source": [
    "Frank Wolfe, Pairwise Frank Wolfe and Projected Gradient over the Markowitz portfolio problems"
   ]
  },
  {
   "cell_type": "markdown",
   "metadata": {},
   "source": [
    "## Frank-Wolfe Method"
   ]
  },
  {
   "cell_type": "code",
   "execution_count": 14,
   "metadata": {},
   "outputs": [],
   "source": [
    "def linear_solver(grad):\n",
    "    c = -grad\n",
    "    A_eq = np.ones((1, nStocks))\n",
    "    b_eq = np.array([1])\n",
    "    bounds = [(0, 1) for _ in range(nStocks)]\n",
    "    res = linprog(c, A_eq=A_eq, b_eq=b_eq, bounds=bounds, method='simplex')\n",
    "    return res.x\n",
    "\n",
    "def duality_gap(weights, grad):\n",
    "    \"\"\"\n",
    "    Compute the duality gap for the given weights and gradient.\n",
    "    \"\"\"\n",
    "    s = linear_solver(grad)\n",
    "    return np.dot(grad, weights - s)"
   ]
  },
  {
   "cell_type": "code",
   "execution_count": 20,
   "metadata": {},
   "outputs": [
    {
     "name": "stderr",
     "output_type": "stream",
     "text": [
      "/var/folders/wx/4rpnc78s6nj_ttkmd4gcb2qr0000gn/T/ipykernel_42980/2317439667.py:6: DeprecationWarning: `method='simplex'` is deprecated and will be removed in SciPy 1.11.0. Please use one of the HiGHS solvers (e.g. `method='highs'`) in new code.\n",
      "  res = linprog(c, A_eq=A_eq, b_eq=b_eq, bounds=bounds, method='simplex')\n"
     ]
    },
    {
     "name": "stdout",
     "output_type": "stream",
     "text": [
      "-0.01415434907878489\n",
      "-0.01415434907878489\n",
      "-0.01415434907878489\n",
      "-0.01415434907878489\n",
      "-0.01415434907878489\n",
      "-0.01415434907878489\n",
      "-0.01415434907878489\n",
      "-0.01415434907878489\n",
      "-0.01415434907878489\n",
      "-0.01415434907878489\n",
      "-0.01415434907878489\n",
      "-0.01415434907878489\n",
      "-0.01415434907878489\n",
      "-0.01415434907878489\n",
      "-0.01415434907878489\n",
      "-0.01415434907878489\n",
      "-0.01415434907878489\n",
      "-0.01415434907878489\n",
      "-0.01415434907878489\n",
      "-0.01415434907878489\n",
      "-0.01415434907878489\n",
      "-0.01415434907878489\n",
      "-0.01415434907878489\n",
      "-0.01415434907878489\n",
      "-0.01415434907878489\n",
      "-0.01415434907878489\n",
      "-0.01415434907878489\n",
      "-0.01415434907878489\n",
      "-0.01415434907878489\n",
      "-0.01415434907878489\n",
      "-0.01415434907878489\n",
      "-0.01415434907878489\n",
      "-0.01415434907878489\n",
      "-0.01415434907878489\n",
      "-0.01415434907878489\n",
      "-0.01415434907878489\n",
      "-0.01415434907878489\n",
      "-0.01415434907878489\n",
      "-0.01415434907878489\n",
      "-0.01415434907878489\n",
      "-0.01415434907878489\n",
      "-0.01415434907878489\n",
      "-0.01415434907878489\n",
      "-0.01415434907878489\n",
      "-0.01415434907878489\n",
      "-0.01415434907878489\n",
      "-0.01415434907878489\n",
      "-0.01415434907878489\n",
      "-0.01415434907878489\n",
      "-0.01415434907878489\n",
      "-0.01415434907878489\n",
      "-0.01415434907878489\n",
      "-0.01415434907878489\n",
      "-0.01415434907878489\n",
      "-0.01415434907878489\n",
      "-0.01415434907878489\n",
      "-0.01415434907878489\n",
      "-0.01415434907878489\n",
      "-0.01415434907878489\n",
      "-0.01415434907878489\n",
      "-0.01415434907878489\n",
      "-0.01415434907878489\n",
      "-0.01415434907878489\n",
      "-0.01415434907878489\n",
      "-0.01415434907878489\n",
      "-0.01415434907878489\n",
      "-0.01415434907878489\n",
      "-0.01415434907878489\n",
      "-0.01415434907878489\n",
      "-0.01415434907878489\n",
      "-0.01415434907878489\n",
      "-0.01415434907878489\n",
      "-0.01415434907878489\n",
      "-0.01415434907878489\n",
      "-0.01415434907878489\n",
      "-0.01415434907878489\n",
      "-0.01415434907878489\n",
      "-0.01415434907878489\n",
      "-0.01415434907878489\n",
      "-0.01415434907878489\n",
      "-0.01415434907878489\n",
      "-0.01415434907878489\n",
      "-0.01415434907878489\n",
      "-0.01415434907878489\n",
      "-0.01415434907878489\n",
      "-0.01415434907878489\n",
      "-0.01415434907878489\n",
      "-0.01415434907878489\n",
      "-0.01415434907878489\n",
      "-0.01415434907878489\n",
      "-0.01415434907878489\n",
      "-0.01415434907878489\n",
      "-0.01415434907878489\n",
      "-0.01415434907878489\n",
      "-0.01415434907878489\n",
      "-0.01415434907878489\n",
      "-0.01415434907878489\n",
      "-0.01415434907878489\n",
      "-0.01415434907878489\n",
      "-0.01415434907878489\n"
     ]
    }
   ],
   "source": [
    "ITERATIONS = 100\n",
    "\n",
    "# Lists to store values for plotting\n",
    "objective_values = []\n",
    "duality_gaps = []\n",
    "gradient_norms = []\n",
    "\n",
    "weights = generate_random_array(nStocks)\n",
    "prev_loss = float('inf')\n",
    "\n",
    "for itr in range(0, ITERATIONS):\n",
    "    grad = gradient(weights)\n",
    "    s = linear_solver(grad)\n",
    "    direction = s - weights\n",
    "\n",
    "    # Compute duality gap\n",
    "    gap = duality_gap(weights, grad)\n",
    "    print(gap)\n",
    "\n",
    "    # Store values for plotting\n",
    "    objective_values.append(loss(weights))\n",
    "    duality_gaps.append(gap)\n",
    "    gradient_norms.append(np.linalg.norm(grad))\n",
    "    \n",
    "    if gap >= -1e-6:\n",
    "        print(\"Stopping due to small duality gap.\")\n",
    "        break\n",
    "    \n",
    "    # Line search to find the optimal step size\n",
    "    step_size = 1\n",
    "    for i in range(100):\n",
    "        weights_new = weights + step_size * direction\n",
    "        if loss(weights_new) < loss(weights):\n",
    "            break\n",
    "        step_size /= 2\n",
    "    \n",
    "    weights_new /= np.sum(weights_new) # Normalizing the updated weights\n",
    "\n",
    "    current_loss = loss(weights_new)\n",
    "    \n",
    "    #norm_update = np.linalg.norm(weights_new - weights)\n",
    "    #if norm_update < 1e-6 or abs(prev_loss - current_loss) < 1e-6:\n",
    "    #    print('break')\n",
    "    #    break\n",
    "    \n",
    "    weights = weights_new\n",
    "    prev_loss = current_loss\n"
   ]
  },
  {
   "cell_type": "code",
   "execution_count": 21,
   "metadata": {},
   "outputs": [
    {
     "data": {
      "image/png": "[encoded data removed]",
      "text/plain": [
       "<Figure size 1080x360 with 3 Axes>"
      ]
     },
     "metadata": {
      "needs_background": "light"
     },
     "output_type": "display_data"
    },
    {
     "name": "stdout",
     "output_type": "stream",
     "text": [
      "Final weights: (226,)\n",
      "Sum of weights: 1.0\n",
      "Return Portfolio:  0.0035608765920597807\n"
     ]
    }
   ],
   "source": [
    "# Plotting the metrics\n",
    "plt.figure(figsize=(15, 5))\n",
    "\n",
    "plt.subplot(1, 3, 1)\n",
    "plt.plot(objective_values)\n",
    "plt.title('Objective Function Value')\n",
    "plt.xlabel('Iteration')\n",
    "plt.ylabel('Value')\n",
    "\n",
    "plt.subplot(1, 3, 2)\n",
    "plt.plot(duality_gaps)\n",
    "plt.title('Duality Gap')\n",
    "plt.xlabel('Iteration')\n",
    "plt.ylabel('Gap')\n",
    "\n",
    "plt.subplot(1, 3, 3)\n",
    "plt.plot(gradient_norms)\n",
    "plt.title('Gradient Norm')\n",
    "plt.xlabel('Iteration')\n",
    "plt.ylabel('Norm')\n",
    "\n",
    "plt.tight_layout()\n",
    "plt.show()\n",
    "\n",
    "print(\"Final weights:\", weights.shape)\n",
    "print(\"Sum of weights:\", np.sum(weights))\n",
    "print('Return Portfolio: ', checkMinRet(weights))"
   ]
  },
  {
   "cell_type": "markdown",
   "metadata": {},
   "source": [
    "## Pairwise Frank-Wolfe"
   ]
  },
  {
   "cell_type": "code",
   "execution_count": 17,
   "metadata": {},
   "outputs": [],
   "source": [
    "def pairwise_fw_update(grad, w):\n",
    "    \"\"\"\n",
    "    Compute the Pairwise Frank-Wolfe direction.\n",
    "    \"\"\"\n",
    "    # Identifying the two components of the gradient to modify\n",
    "    i = np.argmax(grad)\n",
    "    j = np.argmin(grad)\n",
    "    \n",
    "    # Constructing the direction vector\n",
    "    d = np.zeros_like(grad)\n",
    "    d[i] = -w[i]\n",
    "    d[j] = 1-w[j]\n",
    "    \n",
    "    return d\n"
   ]
  },
  {
   "cell_type": "code",
   "execution_count": 18,
   "metadata": {},
   "outputs": [],
   "source": [
    "# Initialize weights and other parameters\n",
    "weights = generate_random_array(nStocks)\n",
    "prev_loss = float('inf')\n",
    "\n",
    "for itr in range(0, ITERATIONS):\n",
    "    grad = gradient(weights)\n",
    "    direction = pairwise_fw_update(grad, weights)\n",
    "    \n",
    "    # Line search (similar to your previous implementation)\n",
    "    step_size = 1\n",
    "    for i in range(100):\n",
    "        weights_new = weights + step_size * direction\n",
    "        if loss(weights_new) < loss(weights):\n",
    "            break\n",
    "        step_size /= 2\n",
    "    \n",
    "    weights_new /= np.sum(weights_new) # Normalizing the updated weights\n",
    "    \n",
    "    current_loss = loss(weights_new)\n",
    "    \n",
    "    norm_update = np.linalg.norm(weights_new - weights)\n",
    "    if norm_update < 1e-6 or abs(prev_loss - current_loss) < 1e-6:\n",
    "        print('break')\n",
    "        break\n",
    "    \n",
    "    weights = weights_new\n",
    "    prev_loss = current_loss"
   ]
  },
  {
   "cell_type": "code",
   "execution_count": 19,
   "metadata": {},
   "outputs": [
    {
     "name": "stdout",
     "output_type": "stream",
     "text": [
      "Final weights: (226,)\n",
      "Sum of weights: 0.9999999999999999\n",
      "Return Portfolio:  0.01644701876580538\n"
     ]
    }
   ],
   "source": [
    "print(\"Final weights:\", weights.shape)\n",
    "print(\"Sum of weights:\", np.sum(weights))\n",
    "print('Return Portfolio: ', checkMinRet(weights))"
   ]
  }
 ],
 "metadata": {
  "interpreter": {
   "hash": "838b1b9000f4cb0d987da8e8962d4e79c88ffc69109dc6c344c96c61ce04b6b0"
  },
  "kernelspec": {
   "display_name": "Python 3.9.13 64-bit ('base': conda)",
   "name": "python3"
  },
  "language_info": {
   "codemirror_mode": {
    "name": "ipython",
    "version": 3
   },
   "file_extension": ".py",
   "mimetype": "text/x-python",
   "name": "python",
   "nbconvert_exporter": "python",
   "pygments_lexer": "ipython3",
   "version": "3.9.13"
  },
  "orig_nbformat": 4
 },
 "nbformat": 4,
 "nbformat_minor": 2
}
