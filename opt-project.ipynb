{
 "cells": [
  {
   "cell_type": "markdown",
   "metadata": {},
   "source": [
    "# Optimization Project"
   ]
  },
  {
   "cell_type": "markdown",
   "metadata": {},
   "source": [
    "In this Jupyter notebook, we will be using the Frank-Wolfe optimization algorithm to minimize the variance function of a portfolio in Markowitz's portfolio theory. Markowitz's theory focuses on optimizing investment portfolios by considering the trade-off between expected returns and risk. The variance function represents the risk component of the portfolio, and by minimizing it, we aim to find the optimal allocation of assets that balances risk and return. The Frank-Wolfe algorithm is an iterative optimization method that iteratively finds the direction of steepest descent to minimize the objective function. By applying this algorithm to the portfolio variance function, we can determine an efficient portfolio allocation that maximizes returns while minimizing risk. Let's dive into the details and explore the power of the Frank-Wolfe algorithm for portfolio optimization."
   ]
  },
  {
   "cell_type": "code",
   "execution_count": 1,
   "metadata": {},
   "outputs": [],
   "source": [
    "from scipy.optimize import linprog\n",
    "import matplotlib.pyplot as plt\n",
    "from scipy.optimize import minimize\n",
    "from scipy.optimize import minimize_scalar\n",
    "from sympy import hessian\n",
    "import numdifftools as nd\n",
    "from datetime import datetime\n",
    "import pandas as pd\n",
    "import numpy as np\n",
    "import scipy"
   ]
  },
  {
   "cell_type": "code",
   "execution_count": 2,
   "metadata": {},
   "outputs": [],
   "source": [
    "PORTFOLIOS = [\"EUROSTOXX_50\", \"FTSE_100\", \"MIBTEL_295\", \"SP_500\", \"NASDAQ\"] \n",
    "PORTFOLIO = PORTFOLIOS[0] #CHANGE\n",
    "RISK_AVERSION = 0.02"
   ]
  },
  {
   "cell_type": "code",
   "execution_count": null,
   "metadata": {},
   "outputs": [],
   "source": [
    "# Read the text file\n",
    "name = pd.read_csv(PORTFOLIO+'/data/list.txt', delimiter='\\t')\n",
    "price_time = np.loadtxt(PORTFOLIO+'/data/price_time.txt', delimiter='\\t')\n",
    "ret_time = np.loadtxt(PORTFOLIO+'/data/Ret_time.txt', delimiter='\\t')\n",
    "ret_mean = np.loadtxt(PORTFOLIO+'/data/MRet.txt', delimiter='\\t')\n",
    "cov = np.loadtxt(PORTFOLIO+'/data/Cov.txt', delimiter='\\t')\n",
    "time = pd.read_csv(PORTFOLIO+'/data/time.txt', delimiter='\\t')\n",
    "\n",
    "# Solution\n",
    "ret_risk = pd.read_csv(PORTFOLIO+'/solutions/RetRisk_SolVal.txt', delimiter='\\t')\n",
    "solval_k5 = pd.read_csv(PORTFOLIO+'/solutions/K5_SolVal.txt', delimiter='\\t', header=None)\n",
    "try:\n",
    "    solval_k10 = pd.read_csv(PORTFOLIO+'/solutions/K10_SolVal.txt', delimiter='\\t', header=None)\n",
    "except FileNotFoundError:\n",
    "    print('File Solval_k5 non found')\n",
    "\n",
    "# Other variable\n",
    "nStocks = len(name) +1"
   ]
  },
  {
   "cell_type": "markdown",
   "metadata": {},
   "source": [
    "### Load Dataset Crypto"
   ]
  },
  {
   "cell_type": "code",
   "execution_count": 3,
   "metadata": {},
   "outputs": [],
   "source": [
    "df_btc = pd.read_csv('CRYPTO/BTC-USD.csv', delimiter=',')\n",
    "df_eth = pd.read_csv('CRYPTO/ETH-EUR.csv', delimiter=',')\n",
    "df_xrp = pd.read_csv('CRYPTO/XRP-USD.csv', delimiter=',')\n",
    "df_ada = pd.read_csv('CRYPTO/ADA-USD.csv', delimiter=',')\n",
    "df_matic = pd.read_csv('CRYPTO/MATIC-USD.csv', delimiter=',')\n",
    "df_dot = pd.read_csv('CRYPTO/DOT-USD.csv', delimiter=',')\n",
    "\n",
    "# Dex eth\n",
    "df_sushi = pd.read_csv('CRYPTO/SUSHI-EUR.csv', delimiter=',')\n",
    "df_uni = pd.read_csv('CRYPTO/UNI-USD.csv', delimiter=',')\n",
    "\n",
    "# Lending eth\n",
    "df_aave = pd.read_csv('CRYPTO/AAVE-EUR.csv', delimiter=';')\n",
    "\n",
    "# Clean Aave\n",
    "df_aave['Date'] = pd.to_datetime(df_aave['timeOpen']).dt.strftime('%Y-%m-%d')\n",
    "df_aave['Close'] = df_aave['close']\n",
    "df_aave['Open'] = df_aave['open']\n",
    "\n",
    "crypto = {\n",
    "    'BTC': df_btc,\n",
    "    'ETH': df_eth,\n",
    "    'XRP': df_xrp,\n",
    "    'ADA': df_ada,\n",
    "    'MATIC': df_matic,\n",
    "    'DOT': df_dot,\n",
    "    'SUSHI': df_sushi,\n",
    "    'UNI': df_uni\n",
    "}"
   ]
  },
  {
   "cell_type": "code",
   "execution_count": 46,
   "metadata": {},
   "outputs": [
    {
     "name": "stdout",
     "output_type": "stream",
     "text": [
      "448\n"
     ]
    }
   ],
   "source": [
    "# Data Filter \n",
    "# Bull: 2020-08-20 2021-11-11\n",
    "# Dot min date: 2020-08-20 2023-09-04\n",
    "# UNI min date: 2020-09-18 2023-09-04\n",
    "# Halv 2020: 2020-05-12\n",
    "start_date = '2020-08-20'\n",
    "end_date = '2021-11-11'\n",
    "portfolio = ['BTC', 'ADA', 'DOT']\n",
    "\n",
    "delta_days = (datetime.strptime(end_date, '%Y-%m-%d') - datetime.strptime(start_date, '%Y-%m-%d')).days\n",
    "print(delta_days)\n",
    "\n",
    "array_returns = []\n",
    "mean_returns = []\n",
    "\n",
    "# Filtrare i DataFrame per la data e calcolare i ritorni e i ritorni medi\n",
    "for key, df in crypto.items(): \n",
    "    df['Open'] = pd.to_numeric(df['Open'], errors='coerce')\n",
    "\n",
    "    df['Date'] = pd.to_datetime(df['Date']) \n",
    "    df.sort_values(by='Date', inplace=True) # Sort date\n",
    "    df = df[(df['Date'] >= start_date) & (df['Date'] <= end_date)] #Filter Date\n",
    "    df['Return'] = (df['Close'] - df['Open']) / df['Open'] # Compute return\n",
    "    crypto[key] = df # update\n",
    "\n",
    "    if key in portfolio: \n",
    "        array_returns.append(df['Return'].to_numpy())\n",
    "        mean_returns.append(df['Return'].mean())\n",
    "\n",
    "crypto['BTC'].reset_index(drop=True, inplace=True)\n",
    "time = crypto['BTC'].Date\n",
    "\n",
    "    "
   ]
  },
  {
   "cell_type": "code",
   "execution_count": 47,
   "metadata": {},
   "outputs": [
    {
     "data": {
      "text/plain": [
       "((3, 3), array([0.00459864, 0.00845559, 0.00923713]))"
      ]
     },
     "execution_count": 47,
     "metadata": {},
     "output_type": "execute_result"
    }
   ],
   "source": [
    "m_stacked = np.vstack(array_returns).T\n",
    "cov = np.cov(m_stacked, rowvar=False)\n",
    "ret_mean = np.array(mean_returns)\n",
    "\n",
    "# Contare il numero di asset\n",
    "nStocks = len(mean_returns) \n",
    "\n",
    "cov.shape, ret_mean"
   ]
  },
  {
   "cell_type": "markdown",
   "metadata": {},
   "source": [
    "## Portfolios Data"
   ]
  },
  {
   "cell_type": "code",
   "execution_count": 48,
   "metadata": {},
   "outputs": [
    {
     "name": "stdout",
     "output_type": "stream",
     "text": [
      "Portfolio: EUROSTOXX_50 \n",
      "N. Stock: 3\n"
     ]
    },
    {
     "data": {
      "image/png": "[encoded data removed]",
      "text/plain": [
       "<Figure size 432x288 with 1 Axes>"
      ]
     },
     "metadata": {
      "needs_background": "light"
     },
     "output_type": "display_data"
    }
   ],
   "source": [
    "# Print Portfolio data\n",
    "print(f\"Portfolio: {PORTFOLIO} \\nN. Stock: {nStocks}\")\n",
    "#print(f\"From: {time.iloc[0, 0]} To: {time.iloc[-1, 0]}\")\n",
    "\n",
    "plt.hist(ret_mean, bins=30, edgecolor='black')\n",
    "plt.xlabel('Returns')\n",
    "plt.ylabel('Frequency')\n",
    "plt.title('Returns Distribution')\n",
    "plt.show()"
   ]
  },
  {
   "cell_type": "code",
   "execution_count": 49,
   "metadata": {},
   "outputs": [
    {
     "name": "stdout",
     "output_type": "stream",
     "text": [
      "B: [1.]\n",
      "1.0\n"
     ]
    },
    {
     "data": {
      "text/plain": [
       "True"
      ]
     },
     "execution_count": 49,
     "metadata": {},
     "output_type": "execute_result"
    }
   ],
   "source": [
    "#Choose x1 in C\n",
    "def generate_random_array(n):\n",
    "    random_nums = np.random.rand(n)\n",
    "    total = np.sum(random_nums)\n",
    "    random_array = random_nums / total\n",
    "    return random_array\n",
    "\n",
    "e = np.ones((nStocks, 1))\n",
    "weights = generate_random_array(nStocks)\n",
    "\n",
    "print(f\"B: {np.dot(e.T, weights)}\")\n",
    "print(sum(weights))\n",
    "np.all(weights > 0)"
   ]
  },
  {
   "cell_type": "code",
   "execution_count": 50,
   "metadata": {},
   "outputs": [],
   "source": [
    "weights = np.random.random(2)\n",
    "weights /= np.sum(weights)\n"
   ]
  },
  {
   "cell_type": "markdown",
   "metadata": {},
   "source": [
    "## Markovitz Efficient Frontier"
   ]
  },
  {
   "cell_type": "code",
   "execution_count": 51,
   "metadata": {},
   "outputs": [
    {
     "data": {
      "image/png": "[encoded data removed]",
      "text/plain": [
       "<Figure size 432x288 with 2 Axes>"
      ]
     },
     "metadata": {
      "needs_background": "light"
     },
     "output_type": "display_data"
    }
   ],
   "source": [
    "# Dati di esempio\n",
    "mean_returns = ret_mean  # Rendimenti attesi per due asset\n",
    "cov_matrix = cov  # Matrice di covarianza\n",
    "weights_maxret = []\n",
    "vol_maxret = 0\n",
    "ret_maxret = 0\n",
    "\n",
    "# Creazione di portafogli random\n",
    "num_portfolios = 10000\n",
    "results = np.zeros((3, num_portfolios))\n",
    "for i in range(num_portfolios):\n",
    "    #weights = generate_random_array(nStocks)\n",
    "    weights = np.random.random(nStocks)\n",
    "    weights /= np.sum(weights)\n",
    "    portfolio_return = np.sum(mean_returns * weights)\n",
    "    portfolio_stddev = np.sqrt(np.dot(weights.T, np.dot(cov_matrix, weights)))\n",
    "    results[0,i] = portfolio_return\n",
    "    results[1,i] = portfolio_stddev\n",
    "\n",
    "    if portfolio_return > ret_maxret:\n",
    "        weights_maxret = weights\n",
    "        ret_maxret = portfolio_return\n",
    "        vol_maxret = portfolio_stddev\n",
    "\n",
    "    \n",
    "    # Tangente di Sharpe (assumendo tasso privo di rischio di 0.05)\n",
    "    results[2,i] = (portfolio_return - 0.05) / portfolio_stddev\n",
    "\n",
    "# Estrazione dei portafogli sulla frontiera efficiente\n",
    "return_range = np.linspace(min(results[0]), max(results[0]), 50)\n",
    "frontier = []\n",
    "for ret in return_range:\n",
    "    subset = results[1][results[0] > ret]\n",
    "    if subset.size > 0:\n",
    "        idx = np.argmin(subset)\n",
    "        frontier.append([subset[idx], ret])\n",
    "\n",
    "frontier = np.array(frontier).T\n",
    "\n",
    "# Plot\n",
    "plt.scatter(results[1,:], results[0,:], c=results[2,:], cmap='YlGnBu', marker='o')\n",
    "plt.title('Frontiera Efficiente con Tangente di Sharpe in Colore')\n",
    "plt.xlabel('Volatilità (Deviazione Standard)')\n",
    "plt.ylabel('Rendimento Atteso')\n",
    "plt.colorbar(label='Tangente di Sharpe')\n",
    "plt.plot(frontier[0], frontier[1], 'r--', linewidth=3)\n",
    "plt.show()"
   ]
  },
  {
   "cell_type": "markdown",
   "metadata": {},
   "source": [
    "### Portfolio with max return"
   ]
  },
  {
   "cell_type": "code",
   "execution_count": 52,
   "metadata": {},
   "outputs": [
    {
     "name": "stdout",
     "output_type": "stream",
     "text": [
      "Risk: 64.50445130118037% Return/day: 0.9217701787224909% Vol: 8.031466323230172%\n",
      "\n",
      "Asset allocation\n",
      "BTC: 0.3456811967643901% Ret: 468.6949354033203%\n",
      "ADA: 0.43378670496677285% Ret: 1492.2170800383421%\n",
      "DOT: 99.22053209826883% Ret: 1742.4996798327052%\n"
     ]
    },
    {
     "name": "stderr",
     "output_type": "stream",
     "text": [
      "/var/folders/wx/4rpnc78s6nj_ttkmd4gcb2qr0000gn/T/ipykernel_11931/993867158.py:7: FutureWarning: Calling float on a single element Series is deprecated and will raise a TypeError in the future. Use float(ser.iloc[0]) instead\n",
      "  day1 = float(df.Open[df.Date == '2020-08-21']) # date+1\n",
      "/var/folders/wx/4rpnc78s6nj_ttkmd4gcb2qr0000gn/T/ipykernel_11931/993867158.py:8: FutureWarning: Calling float on a single element Series is deprecated and will raise a TypeError in the future. Use float(ser.iloc[0]) instead\n",
      "  day2 = float(df.Open[df.Date == '2021-11-09'])\n"
     ]
    }
   ],
   "source": [
    "risk = np.dot(weights_maxret.T, np.dot(cov, weights_maxret))*100\n",
    "return_crypto = []\n",
    "\n",
    "for key, df in crypto.items():\n",
    "    try:\n",
    "        if key in portfolio:\n",
    "            day1 = float(df.Open[df.Date == '2020-08-21']) # date+1\n",
    "            day2 = float(df.Open[df.Date == '2021-11-09'])\n",
    "            return_crypto.append((day2 - day1) / day1)\n",
    "    \n",
    "    except(TypeError):\n",
    "        print(key)\n",
    "\n",
    "print(f'Risk: {risk*100}% Return/day: {ret_maxret*100}% Vol: {vol_maxret*100}%\\n')\n",
    "\n",
    "print('Asset allocation')\n",
    "for tkr, w, ret in zip(portfolio, weights_maxret, return_crypto):\n",
    "    print(f'{tkr}: {w*100}% Ret: {ret*100}%')"
   ]
  },
  {
   "cell_type": "code",
   "execution_count": 53,
   "metadata": {},
   "outputs": [
    {
     "name": "stdout",
     "output_type": "stream",
     "text": [
      "Investiment: 10000€\n",
      "Asset Allocation:\n",
      "BTC: 35.0€\n",
      "ADA: 43.0€\n",
      "DOT: 9922.0€\n",
      "Capital Final: 173701.0€\n"
     ]
    }
   ],
   "source": [
    "capital = 10000\n",
    "final_capital = 0\n",
    "\n",
    "# weights_desire, return_crypto\n",
    "print(f'Investiment: {capital}€')\n",
    "print('Asset Allocation:')\n",
    "for tkr, w, ret in zip(portfolio, weights_maxret, return_crypto):\n",
    "    print(f'{tkr}: {np.round(capital*w)}€')\n",
    "    final_capital = final_capital + capital*w*ret\n",
    "\n",
    "print(f'Capital Final: {np.round(final_capital)}€')\n"
   ]
  },
  {
   "cell_type": "code",
   "execution_count": 54,
   "metadata": {},
   "outputs": [
    {
     "data": {
      "image/png": "[encoded data removed]",
      "text/plain": [
       "<Figure size 720x432 with 1 Axes>"
      ]
     },
     "metadata": {
      "needs_background": "light"
     },
     "output_type": "display_data"
    }
   ],
   "source": [
    "port_returns = []\n",
    "port_volatility = []\n",
    "\n",
    "for idx, w in enumerate(weights):\n",
    "    port_returns.append(np.dot(w, ret_mean[idx]))\n",
    "\n",
    "port_volatility = np.diag(np.dot(np.dot(cov, np.diag(weights)), cov.T))\n",
    "\n",
    "plt.figure(figsize=(10, 6))\n",
    "plt.scatter(port_volatility, port_returns, marker='o', color='b', s=10, alpha=0.5)\n",
    "plt.xlabel('Volatility')\n",
    "plt.ylabel('Return')\n",
    "plt.title('Efficient Frontier')\n",
    "plt.grid(True)\n",
    "plt.show()"
   ]
  },
  {
   "cell_type": "markdown",
   "metadata": {},
   "source": [
    "# Portfolio Optimizations"
   ]
  },
  {
   "cell_type": "markdown",
   "metadata": {},
   "source": [
    "We have $n$ avaiable assets. We call $w_i$ the quantity of money invested on the\n",
    "$i$-th asset during the considered period and with $r_i$ the returns on the $i$-th\n",
    "asset. We have two different constraints. The first one is non-negativity for the\n",
    "variables (i.e., $w_i$ ≥ 0). It basically means that short selling (selling asset that\n",
    "we still don’t own) is not allowed. We then have the budget constraint:"
   ]
  },
  {
   "cell_type": "markdown",
   "metadata": {},
   "source": [
    "$\n",
    "\\begin{equation}\n",
    "\\sum_{i=1}^{n} w_i = B\n",
    "\\end{equation}\n",
    "$\n",
    "\n"
   ]
  },
  {
   "cell_type": "markdown",
   "metadata": {},
   "source": [
    "the total amount of money invested needs to be equal to the budget $B$ ($B$ can be simply set to 1).\n",
    "Consider a stochastic model for the returns: $r ∈ R^n$ is a randomly generated vector with mean $\\overline{r}$ and covariance $\\Sigma$. Thus expected return will be:\n",
    "$\n",
    "\\begin{equation}\n",
    "\\overline{r}^\\intercal \\, w\n",
    "\\end{equation}\n",
    "$\n",
    "and variance (risk)\n",
    "$\n",
    "\\begin{equation}\n",
    "w^\\intercal \\, \\Sigma \\, w\n",
    "\\end{equation}\n",
    "$\n",
    "Classic portfolio problem, described by Markowitz (1952), is a convex quadratic programming problem:\n",
    "$\n",
    "\\begin{equation}\n",
    "\\begin{split}\n",
    "\\underset{w∈R^n}{min} \\quad \\gamma \\, w^\\intercal \\, \\Sigma \\, w - \\overline{r}^\\intercal \\, w \\\\\n",
    "s.t. \\quad e^\\intercal w = 1 \\\\\n",
    "w > 0\n",
    "\\end{split}\n",
    "\\end{equation} \n",
    "$\n",
    "with $\\gamma$ > 0 risk-aversion parameter. Goal is thus finding the set of assets that\n",
    "minimizes the variance (risk connected to the given portfolio) while maximizing\n",
    "the expected return (we obviously need to satisfy budget and non-negativity\n",
    "constraints)."
   ]
  },
  {
   "cell_type": "code",
   "execution_count": 55,
   "metadata": {},
   "outputs": [],
   "source": [
    "def checkMeanRet(weights):\n",
    "    return np.dot(ret_mean.T, weights)\n",
    "\n",
    "def checkSumOne(weights):\n",
    "    return np.sum(weights) - 1"
   ]
  },
  {
   "cell_type": "code",
   "execution_count": 56,
   "metadata": {},
   "outputs": [],
   "source": [
    "def riskFunction(weights):\n",
    "    return np.dot(w.T, np.dot(cov, weights))\n",
    "\n",
    "def loss(weights):\n",
    "    return  np.dot(RISK_AVERSION, np.dot(weights.T, np.dot(cov, weights))) -  np.dot(ret_mean.T, weights)"
   ]
  },
  {
   "cell_type": "markdown",
   "metadata": {},
   "source": [
    "## Hessian and Lipschitz constant"
   ]
  },
  {
   "cell_type": "markdown",
   "metadata": {},
   "source": [
    "Those functions are used to calculate the Hessian matrix and the Lipschitz constat for the whole problem, and for the single variable."
   ]
  },
  {
   "cell_type": "code",
   "execution_count": 57,
   "metadata": {},
   "outputs": [],
   "source": [
    "def lipschitz_constant(hessian):\n",
    "    return scipy.linalg.eigh(hessian, subset_by_index=(len(hessian)-1, len(hessian)-1))[0][0]\n",
    "    \n",
    "def is_strongly_convex(hessian):\n",
    "    return scipy.linalg.eigh(hessian, subset_by_index=(0,0))[0][0]"
   ]
  },
  {
   "cell_type": "code",
   "execution_count": 58,
   "metadata": {},
   "outputs": [
    {
     "name": "stdout",
     "output_type": "stream",
     "text": [
      "Calculating sigma (strongly convex)\n",
      "CPU times: user 36 µs, sys: 19 µs, total: 55 µs\n",
      "Wall time: 55.1 µs\n"
     ]
    }
   ],
   "source": [
    "%%time\n",
    "#print(\"Hessian matrix\")\n",
    "#hessian = nd.Hessian(loss)(weights)\n",
    "\n",
    "# Let C convex set and f convex function over C \n",
    "# Every local minimum of f over C is also global minimum\n",
    "\n",
    "# Let C convex set and f convex function over C \n",
    "# If x is a local minimum of f over C it is also the only local and global \n",
    "# minimum for f over C\n",
    "\n",
    "# Strong convexity is used for providing linear convergence\n",
    "# rate of many gradient descent based algorithms\n",
    "print(\"Calculating sigma (strongly convex)\")\n",
    "##sigma = is_strongly_convex(hessian)\n",
    "#is_sc = sigma > 0\n",
    "\n",
    "#if is_sc: print(f\"Sigma: {sigma}, strongly convex\")\n",
    "#else: print(f\"Sigma: {sigma}, not strongly convex\")\n",
    "\n",
    "#L = lipschitz_constant(hessian)\n",
    "#print(f\"Lipschitz constant: {L}\")\n",
    "\n",
    "#print(\"Lipschitz constant for single variable\")\n",
    "#Li = np.repeat(L, len(hessian))"
   ]
  },
  {
   "cell_type": "markdown",
   "metadata": {},
   "source": [
    "## Gradient"
   ]
  },
  {
   "cell_type": "markdown",
   "metadata": {},
   "source": [
    "$\n",
    "\\begin{equation}\n",
    "\\nabla f(w_k) = 2 \\, \\gamma \\, \\Sigma \\, w - \\overline{r}^\\intercal\\\\\n",
    "\\end{equation} \n",
    "$"
   ]
  },
  {
   "cell_type": "code",
   "execution_count": 59,
   "metadata": {},
   "outputs": [],
   "source": [
    "def gradient(w):\n",
    "    return  RISK_AVERSION * 2 * np.dot(w, cov) -  ret_mean.T"
   ]
  },
  {
   "cell_type": "markdown",
   "metadata": {},
   "source": [
    "# Projected Gradient, Frank-Wolfe and Pairwise Frank-Wolfe over the Markowitz portfolio problems"
   ]
  },
  {
   "cell_type": "markdown",
   "metadata": {},
   "source": [
    "## Projected Gradient Method"
   ]
  },
  {
   "cell_type": "code",
   "execution_count": 60,
   "metadata": {},
   "outputs": [],
   "source": [
    "def project_onto_simplex(y):\n",
    "    m = len(y)\n",
    "    bget = False\n",
    "    s = sorted(y, reverse=True)\n",
    "    tmpsum = 0.\n",
    "\n",
    "    for ii in range(m-1):\n",
    "        tmpsum = tmpsum + s[ii]\n",
    "        tmax = (tmpsum - 1) / (ii + 1)\n",
    "        if tmax >= s[ii+1]:\n",
    "            bget = True\n",
    "            break\n",
    "    if not bget:\n",
    "        tmax = (tmpsum + s[m-1] -1)/m\n",
    "        \n",
    "    return np.maximum(y-tmax,0.)\n"
   ]
  },
  {
   "cell_type": "code",
   "execution_count": 61,
   "metadata": {},
   "outputs": [
    {
     "name": "stdout",
     "output_type": "stream",
     "text": [
      "Break itr:  8\n",
      "Final Weights:  [0.39951246 0.21337522 0.38711232]\n",
      "Sec Max Weights: 0.38711231792910505\n",
      "Max Weights: 0.39951245812840125\n",
      "Sum weights:  0.9999999999999999\n",
      "CPU times: user 1.74 ms, sys: 2.86 ms, total: 4.6 ms\n",
      "Wall time: 4.31 ms\n"
     ]
    }
   ],
   "source": [
    "%%time\n",
    "\n",
    "ITERATIONS = 11\n",
    "\n",
    "weights = generate_random_array(nStocks)\n",
    "weights_x = np.ones(nStocks) / nStocks\n",
    "loss_values_pgd = []\n",
    "grad_values_pgd = []\n",
    "returns_iteration_pgd = []\n",
    "optimal_indices_pgd = []\n",
    "optimal_values_pgd = []\n",
    "optimal_weights_pgd = []\n",
    "\n",
    "loss_pgd_improved = [loss(weights)]\n",
    "ret_pgd_improved = [checkMeanRet(weights)]\n",
    "\n",
    "prev_loss = float('inf')\n",
    "\n",
    "for itr in range(1, ITERATIONS):\n",
    "    if itr % (ITERATIONS * 0.05) == 0:\n",
    "        print(f\"{int(itr/ITERATIONS*100):02}%\", end=\"\")\n",
    "\n",
    "    grad = gradient(weights)\n",
    "\n",
    "    # Store values for plotting\n",
    "    loss_values_pgd.append(loss(weights))\n",
    "    grad_values_pgd.append(np.linalg.norm(grad))\n",
    "    returns_iteration_pgd.append(checkMeanRet(weights))\n",
    "    \n",
    "    step_size = 1 / (itr + 1) #CONTROLLA \n",
    "    weights_new = weights - step_size * grad    \n",
    "    current_loss = loss(weights_new)\n",
    "    \n",
    "    norm_update = np.linalg.norm(weights_new - weights)\n",
    "    if abs(prev_loss - current_loss) < 1e-6:\n",
    "        print('Break itr: ', itr)\n",
    "        break\n",
    "\n",
    "    weights = project_onto_simplex(weights_new)\n",
    "    prev_loss = current_loss\n",
    "\n",
    "    if itr % (ITERATIONS * 0.05) == 0:\n",
    "        print(f\" - ret {(returns_iteration_pgd[-1])*100:05.2f}% - loss {loss(weights):05.2f}\")\n",
    "\n",
    "print(\"Final Weights: \", weights[:7])\n",
    "def second_largest_partition(arr):\n",
    "    return np.partition(arr, -2)[-2]\n",
    "\n",
    "print(f\"Sec Max Weights: {second_largest_partition(weights)}\")\n",
    "print(f\"Max Weights: {np.max(weights)}\")\n",
    "print(\"Sum weights: \", np.sum(weights))"
   ]
  },
  {
   "cell_type": "code",
   "execution_count": 64,
   "metadata": {},
   "outputs": [
    {
     "data": {
      "text/plain": [
       "0.27488967331174796"
      ]
     },
     "execution_count": 64,
     "metadata": {},
     "output_type": "execute_result"
    }
   ],
   "source": [
    "data = {\n",
    "    'Returns': returns_iteration_pgd,\n",
    "}\n",
    "\n",
    "df = pd.DataFrame(data)\n",
    "\n",
    "np.dot(weights.T, np.dot(cov, weights))*100"
   ]
  },
  {
   "cell_type": "code",
   "execution_count": 63,
   "metadata": {},
   "outputs": [
    {
     "ename": "NameError",
     "evalue": "name 'ret_time' is not defined",
     "output_type": "error",
     "traceback": [
      "\u001b[0;31m---------------------------------------------------------------------------\u001b[0m",
      "\u001b[0;31mNameError\u001b[0m                                 Traceback (most recent call last)",
      "Input \u001b[0;32mIn [63]\u001b[0m, in \u001b[0;36m<cell line: 27>\u001b[0;34m()\u001b[0m\n\u001b[1;32m     24\u001b[0m plt\u001b[38;5;241m.\u001b[39mlegend()\n\u001b[1;32m     26\u001b[0m \u001b[38;5;66;03m# Return over 264 weeks\u001b[39;00m\n\u001b[0;32m---> 27\u001b[0m ret_mean_weeks_pgd \u001b[38;5;241m=\u001b[39m np\u001b[38;5;241m.\u001b[39mdot(\u001b[43mret_time\u001b[49m, weights)\n\u001b[1;32m     29\u001b[0m plt\u001b[38;5;241m.\u001b[39mfigure(figsize\u001b[38;5;241m=\u001b[39m(\u001b[38;5;241m20\u001b[39m, \u001b[38;5;241m5\u001b[39m))\n\u001b[1;32m     30\u001b[0m plt\u001b[38;5;241m.\u001b[39mplot(ret_mean_weeks_pgd)\n",
      "\u001b[0;31mNameError\u001b[0m: name 'ret_time' is not defined"
     ]
    },
    {
     "data": {
      "image/png": "[encoded data removed]",
      "text/plain": [
       "<Figure size 1440x360 with 3 Axes>"
      ]
     },
     "metadata": {
      "needs_background": "light"
     },
     "output_type": "display_data"
    }
   ],
   "source": [
    "# Plotting the metrics\n",
    "plt.figure(figsize=(20, 5))\n",
    "\n",
    "# Loss Function Values\n",
    "plt.subplot(1, 3, 1)\n",
    "plt.plot(loss_values_pgd)\n",
    "plt.title('Objective Function Value')\n",
    "plt.xlabel('Iteration')\n",
    "plt.ylabel('Value')\n",
    "\n",
    "# Norm Gradient Values\n",
    "plt.subplot(1, 3, 2)\n",
    "plt.plot(grad_values_pgd)\n",
    "plt.title('Norm Gradient Value')\n",
    "plt.xlabel('Iteration')\n",
    "plt.ylabel('Value')\n",
    "\n",
    "plt.subplot(1, 3, 3)\n",
    "plt.plot(returns_iteration_pgd, label='Frank-Wolfe')\n",
    "#plt.plot(solval_k5[0], label='Solution Retuns')\n",
    "plt.title('Return over Iteration')\n",
    "plt.xlabel('Iteration')\n",
    "plt.ylabel('Return Mean')\n",
    "plt.legend()\n",
    "\n",
    "# Return over 264 weeks\n",
    "ret_mean_weeks_pgd = np.dot(ret_time, weights)\n",
    "\n",
    "plt.figure(figsize=(20, 5))\n",
    "plt.plot(ret_mean_weeks_pgd)\n",
    "plt.title('Return over 265 week')\n",
    "plt.xlabel('Week')\n",
    "plt.ylabel('Return')\n",
    "\n",
    "plt.tight_layout()\n",
    "plt.show()\n",
    "\n",
    "ret_mean_pgd = checkMeanRet(weights) * 100\n",
    "print(\"Final weights:\", weights[:4])\n",
    "print(\"Sum of weights:\", np.sum(weights))\n",
    "print('Return Portfolio: ', ret_mean_pgd, \"%\")"
   ]
  },
  {
   "cell_type": "markdown",
   "metadata": {},
   "source": [
    "## Frank-Wolfe Method"
   ]
  },
  {
   "cell_type": "code",
   "execution_count": null,
   "metadata": {},
   "outputs": [],
   "source": [
    "def linear_solver(grad):\n",
    "    c = grad # Use the positive gradient for minimization\n",
    "    A_eq = np.ones((1, nStocks))\n",
    "    b_eq = np.array([1])\n",
    "    bounds = [(0, 1) for _ in range(nStocks)]\n",
    "    res = linprog(c, A_eq=A_eq, b_eq=b_eq, bounds=bounds, method='highs')\n",
    "    return res.x\n",
    "\n",
    "import pulp\n",
    "\n",
    "def milp_solver(grad, k):\n",
    "    # Definizione del problema\n",
    "    prob = pulp.LpProblem(\"MILP_FrankWolfe\", pulp.LpMinimize)\n",
    "    \n",
    "    n = len(grad)\n",
    "    M = 1e6  # Un grande valore. Puoi regolarlo se necessario.\n",
    "    epsilon = 1e-6  # Un piccolo valore positivo. Puoi regolarlo se necessario.\n",
    "    \n",
    "    # Variabili decisionali\n",
    "    s = pulp.LpVariable.dicts(\"s\", range(n), 0, 1)\n",
    "    y = pulp.LpVariable.dicts(\"y\", range(n), 0, 1, cat='Binary')\n",
    "    \n",
    "    # Funzione obiettivo\n",
    "    prob += pulp.lpSum(grad[i] * s[i] for i in range(n))\n",
    "    \n",
    "    # Vincoli\n",
    "    prob += pulp.lpSum(s[i] for i in range(n)) == 1\n",
    "    prob += pulp.lpSum(y[i] for i in range(n)) <= k\n",
    "    for i in range(n):\n",
    "        prob += s[i] <= M * y[i]\n",
    "        prob += s[i] >= epsilon * y[i]\n",
    "    \n",
    "    # Risolvi il problema\n",
    "    prob.solve()\n",
    "    \n",
    "    # Ottieni la soluzione\n",
    "    soluzione = [s[i].varValue for i in range(n)]\n",
    "    \n",
    "    return np.array(soluzione)\n",
    "\n",
    "\n",
    "\n",
    "def duality_gap(weights, grad):\n",
    "    \"\"\"\n",
    "    Compute the duality gap for the given weights and gradient.\n",
    "    \"\"\"\n",
    "    s = linear_solver(grad)\n",
    "    return np.dot(grad, weights - s)"
   ]
  },
  {
   "cell_type": "code",
   "execution_count": null,
   "metadata": {},
   "outputs": [],
   "source": [
    "%%time\n",
    "\n",
    "ITERATIONS = 20\n",
    "\n",
    "weights = generate_random_array(nStocks)\n",
    "weights_x = np.ones(nStocks) / nStocks\n",
    "loss_values_fw = []\n",
    "grad_values_fw = []\n",
    "returns_iteration_fw = []\n",
    "optimal_indices_fw = []\n",
    "optimal_values_fw = []\n",
    "optimal_weights_fw = []\n",
    "\n",
    "loss_gd_improved = [loss(weights)]\n",
    "ret_gd_improved = [checkMeanRet(weights)]\n",
    "\n",
    "prev_loss = float('inf')\n",
    "\n",
    "for itr in range(1, ITERATIONS):\n",
    "    if itr % (ITERATIONS * 0.05) == 0:\n",
    "        print(f\"{int(itr/ITERATIONS*100):02}%\", end=\"\")\n",
    "\n",
    "    grad = gradient(weights)\n",
    "    s = linear_solver(grad)\n",
    "    direction = s - weights\n",
    "\n",
    "    # Store values for plotting\n",
    "    loss_values_fw.append(loss(weights))\n",
    "    grad_values_fw.append(np.linalg.norm(grad))\n",
    "    returns_iteration_fw.append(checkMeanRet(weights))\n",
    "\n",
    "    # Find the indices of the components with the maximum value in the direction\n",
    "    max_value = np.max(direction) # or np.min(direction) depending on the context\n",
    "    optimal_values_fw.append(max_value)\n",
    "    optimal_indices = np.where(direction == max_value)[0]\n",
    "    optimal_indices_fw.append(optimal_indices.tolist())\n",
    "\n",
    "    if abs(duality_gap(weights, grad)) < 1e-6: \n",
    "        print('Duality Gap Convergence itr: ', itr)\n",
    "        break\n",
    "    \n",
    "    step_size = 2 / (itr + 2) #CONTROLLA \n",
    "    weights_new = weights + step_size * direction    \n",
    "    current_loss = loss(weights_new)\n",
    "\n",
    "    optimal_weights_fw.append(np.max(weights_new))\n",
    "    \n",
    "    #norm_update = np.linalg.norm(weights_new - weights)\n",
    "    #if abs(prev_loss - current_loss) < 1e-6:\n",
    "    #    print('Break itr: ', itr)\n",
    "    #    break\n",
    "\n",
    "    weights = weights_new\n",
    "    prev_loss = current_loss\n",
    "    print(np.sort(weights)[::-1])\n",
    "\n",
    "    if itr % (ITERATIONS * 0.05) == 0:\n",
    "        print(f\" - ret {(returns_iteration_fw[-1])*100:05.2f}% - loss {loss(weights):05.2f}\")\n",
    "\n",
    "print(\"Final Weights: \", weights[:4])\n",
    "def second_largest_partition(arr):\n",
    "    return np.partition(arr, -2)[-2]\n",
    "\n",
    "print(f\"Sec Max Weights: {second_largest_partition(weights)}\")\n",
    "print(f\"Max Weights: {np.max(weights)}\")\n",
    "print(\"Sum weights: \", np.sum(weights))"
   ]
  },
  {
   "cell_type": "code",
   "execution_count": null,
   "metadata": {},
   "outputs": [],
   "source": [
    "data = {\n",
    "    'Returns': returns_iteration_fw,\n",
    "    'Index i Optimal Sol': optimal_indices_fw,\n",
    "    'Optimal Weights FW': optimal_weights_fw\n",
    "}\n",
    "\n",
    "df = pd.DataFrame(data)\n",
    "df"
   ]
  },
  {
   "cell_type": "code",
   "execution_count": null,
   "metadata": {},
   "outputs": [],
   "source": [
    "np.dot(weights.T, np.dot(cov, weights))*100"
   ]
  },
  {
   "cell_type": "code",
   "execution_count": null,
   "metadata": {},
   "outputs": [],
   "source": [
    "# Plotting the metrics\n",
    "plt.figure(figsize=(20, 5))\n",
    "\n",
    "# Loss Function Values\n",
    "plt.subplot(1, 3, 1)\n",
    "plt.plot(loss_values_fw)\n",
    "plt.title('Objective Function Value')\n",
    "plt.xlabel('Iteration')\n",
    "plt.ylabel('Value')\n",
    "\n",
    "# Norm Gradient Values\n",
    "plt.subplot(1, 3, 2)\n",
    "plt.plot(grad_values_fw)\n",
    "plt.title('Norm Gradient Value')\n",
    "plt.xlabel('Iteration')\n",
    "plt.ylabel('Value')\n",
    "\n",
    "plt.subplot(1, 3, 3)\n",
    "plt.plot(returns_iteration_fw, label='Frank-Wolfe')\n",
    "#plt.plot(solval_k5[0], label='Solution Retuns')\n",
    "plt.title('Return over Iteration')\n",
    "plt.xlabel('Iteration')\n",
    "plt.ylabel('Return Mean')\n",
    "plt.legend()\n",
    "\n",
    "# Return over 264 weeks\n",
    "#ret_mean_weeks_fw = np.dot(ret_time, weights)\n",
    "\n",
    "plt.figure(figsize=(20, 5))\n",
    "#plt.plot(ret_mean_weeks_fw)\n",
    "plt.title('Return over 265 week')\n",
    "plt.xlabel('Week')\n",
    "plt.ylabel('Return')\n",
    "\n",
    "plt.tight_layout()\n",
    "plt.show()\n",
    "\n",
    "ret_mean_fw = checkMeanRet(weights) * 100\n",
    "print(\"Final weights:\", weights[:4])\n",
    "print(\"Sum of weights:\", np.sum(weights))\n",
    "print('Return Portfolio: ', ret_mean_fw, \"%\")\n",
    "print('Max ret mean: ', np.max(ret_mean))"
   ]
  },
  {
   "cell_type": "markdown",
   "metadata": {},
   "source": [
    "## Pairwise Frank-Wolfe"
   ]
  },
  {
   "cell_type": "code",
   "execution_count": null,
   "metadata": {},
   "outputs": [],
   "source": [
    "def pairwise_fw_update(grad, w):\n",
    "    \"\"\"\n",
    "    Compute the Pairwise Frank-Wolfe direction.\n",
    "    \"\"\"\n",
    "    # Identifying the two components of the gradient to modify\n",
    "    i = np.argmax(grad)\n",
    "    j = np.argmin(grad)\n",
    "    \n",
    "    # Constructing the direction vector\n",
    "    d = np.zeros_like(grad)\n",
    "    d[i] = -w[i]\n",
    "    d[j] = 1-w[j]\n",
    "    \n",
    "    return d\n"
   ]
  },
  {
   "cell_type": "code",
   "execution_count": null,
   "metadata": {},
   "outputs": [],
   "source": [
    "%%time\n",
    "ITERATIONS = 11\n",
    "\n",
    "# Initialize weights and other parameters\n",
    "weights = generate_random_array(nStocks)\n",
    "\n",
    "loss_values_pairwise = []\n",
    "grad_values_pairwise = []\n",
    "returns_iteration_pairwise = []\n",
    "optimal_indices_pairwise = []\n",
    "optimal_values_pairwise = []\n",
    "prev_loss = float('inf')\n",
    "\n",
    "for itr in range(1, ITERATIONS):\n",
    "    grad = gradient(weights)\n",
    "    direction = pairwise_fw_update(grad, weights)\n",
    "    \n",
    "    # Store values for plotting\n",
    "    loss_values_pairwise.append(loss(weights))\n",
    "    grad_values_pairwise.append(np.linalg.norm(grad))\n",
    "    returns_iteration_pairwise.append(checkMeanRet(weights))\n",
    "\n",
    "    # Find the indices of the components with the maximum value in the direction\n",
    "    max_value = np.max(direction) # or np.min(direction) depending on the context\n",
    "    optimal_values_pairwise.append(max_value)\n",
    "    optimal_indices = np.where(direction == max_value)[0]\n",
    "    optimal_indices_pairwise.append(optimal_indices.tolist())\n",
    "\n",
    "    if abs(duality_gap(weights, grad)) < 1e-6: \n",
    "        print('Duality Gap Convergence itr: ', itr)\n",
    "        break\n",
    "\n",
    "    step_size = 2 / (itr + 2) #CONTROLLA\n",
    "    weights_new = weights + step_size * direction\n",
    "    weights_new /= np.sum(weights_new) # Normalizing the updated weights\n",
    "    \n",
    "    current_loss = loss(weights_new)\n",
    "    \n",
    "    #norm_update = np.linalg.norm(weights_new - weights)\n",
    "    #if norm_update < 1e-6 or abs(prev_loss - current_loss) < 1e-6:\n",
    "    #    print('Break itr: ', itr)\n",
    "    #    break\n",
    "    \n",
    "    weights = weights_new\n",
    "    prev_loss = current_loss\n",
    "\n",
    "print(\"Final Weights: \", weights[:4])\n",
    "print(f\"Max Weights: {np.max(weights)}\")\n",
    "print(\"Sum weights: \", np.sum(weights))\n",
    "\n"
   ]
  },
  {
   "cell_type": "code",
   "execution_count": null,
   "metadata": {},
   "outputs": [],
   "source": [
    "data = {\n",
    "    'Returns': returns_iteration_pairwise,\n",
    "    'Index i Optimal Sol': optimal_indices_pairwise,\n",
    "    'Optimal Values PFW': optimal_values_pairwise\n",
    "}\n",
    "\n",
    "df_pairwise = pd.DataFrame(data)\n",
    "df_pairwise"
   ]
  },
  {
   "cell_type": "code",
   "execution_count": null,
   "metadata": {},
   "outputs": [],
   "source": [
    "# Plotting the metrics\n",
    "plt.figure(figsize=(20, 5))\n",
    "\n",
    "plt.subplot(1, 3, 1)\n",
    "plt.plot(loss_values_pairwise)\n",
    "plt.title('Objective Function Value')\n",
    "\n",
    "plt.subplot(1, 3, 2)\n",
    "plt.plot(grad_values_pairwise)\n",
    "plt.title('Norm Gradient Value')\n",
    "plt.xlabel('Iteration')\n",
    "plt.ylabel('Value')\n",
    "\n",
    "plt.subplot(1, 3, 3)\n",
    "plt.plot(returns_iteration_pairwise, label='Pairwise Frank-Wolfe')\n",
    "#plt.plot(solval_k5[0], label='Solution')\n",
    "plt.title('Returns over Iteration')\n",
    "plt.xlabel('Iteration')\n",
    "plt.ylabel('Returns')\n",
    "plt.legend()\n",
    "\n",
    "# Return over 264 weeks\n",
    "ret_mean_weeks_pairwise = np.dot(ret_time, weights)\n",
    "\n",
    "plt.figure(figsize=(20, 5))\n",
    "plt.plot(ret_mean_weeks_pairwise)\n",
    "plt.title('Return over 265 week')\n",
    "plt.xlabel('Week')\n",
    "plt.ylabel('Return')\n",
    "\n",
    "\n",
    "plt.tight_layout()\n",
    "plt.show()\n",
    "\n",
    "ret_mean_pairwise = checkMeanRet(weights) * 100\n",
    "print(\"Final weights:\", weights.shape)\n",
    "print(\"Sum of weights:\", np.sum(weights))\n",
    "print('Return Portfolio: ', ret_mean_pairwise, \"%\")"
   ]
  },
  {
   "cell_type": "markdown",
   "metadata": {},
   "source": [
    "# Comparison"
   ]
  },
  {
   "cell_type": "code",
   "execution_count": null,
   "metadata": {},
   "outputs": [],
   "source": [
    "# Plotting Objective Values for both methods\n",
    "plt.figure(figsize=(20, 6))\n",
    "\n",
    "plt.subplot(1, 3, 1)\n",
    "plt.plot(loss_values_pgd, label='Project Gradient')\n",
    "plt.plot(loss_values_fw, label='Frank-Wolfe')\n",
    "plt.plot(loss_values_pairwise, label='Pairwise Frank-Wolfe')\n",
    "plt.xlabel('Iteration')\n",
    "plt.ylabel('Objective Value')\n",
    "plt.title('Objective Value vs Iteration')\n",
    "plt.legend()\n",
    "\n",
    "plt.subplot(1, 3, 2)\n",
    "plt.plot(grad_values_fw, label='Frank-Wolfe')\n",
    "plt.plot(grad_values_pairwise, label='Pairwise Frank-Wolfe')\n",
    "plt.xlabel('Iteration')\n",
    "plt.ylabel('Norm Gradient Value')\n",
    "plt.title('Gradient Value vs Iteration')\n",
    "plt.legend()\n",
    "\n",
    "plt.subplot(1, 3, 3)\n",
    "plt.plot(returns_iteration_fw, label='Frank-Wolfe')\n",
    "plt.plot(returns_iteration_pairwise, label='Pairwise Frank-Wolfe')\n",
    "#plt.plot(solval_k5[0], label='Solution')\n",
    "plt.title('Returns over Iteration')\n",
    "plt.xlabel('Iteration')\n",
    "plt.ylabel('Returns')\n",
    "plt.legend()\n",
    "\n",
    "# Return over 264 weeks\n",
    "ret_mean_weeks = np.dot(ret_time, weights)\n",
    "\n",
    "plt.figure(figsize=(20, 6))\n",
    "plt.plot(ret_mean_weeks_pgd, label='Project Gradient', color='r')\n",
    "plt.plot(ret_mean_weeks_fw, label='Frank-Wolfe')\n",
    "plt.plot(ret_mean_weeks_pairwise, label='Pairwise Frank-Wolfe')\n",
    "plt.title('Return over 265 week')\n",
    "plt.xlabel('Week')\n",
    "plt.ylabel('Return')\n",
    "plt.legend()\n",
    "\n",
    "# Return mean\n",
    "plt.figure(figsize=(20, 6))\n",
    "plt.axhline(ret_mean_fw, label='Frank-Wolfe', color='r')\n",
    "plt.axhline(ret_mean_pairwise, label='Pairwise Frank-Wolfe', color='b')\n",
    "plt.axhline(list(solval_k5[0])[-1]*100, label='Solution', color='g')\n",
    "plt.title('Return mean')\n",
    "plt.xlabel('Week')\n",
    "plt.ylabel('Return')\n",
    "plt.legend()\n",
    "\n",
    "plt.show()"
   ]
  },
  {
   "cell_type": "code",
   "execution_count": null,
   "metadata": {},
   "outputs": [],
   "source": [
    "weights_sol = np.zeros(nStocks)\n",
    "#weights_sol[22] = 0.989851\n",
    "weights_sol[3] = 0.989851\n",
    "weights_sol[38] = 0.010149\n",
    "\n",
    "# Return over 264 weeks\n",
    "ret_mean_weeks = np.dot(ret_time, weights)\n",
    "ret_mean_weeks_sol = np.dot(ret_time, weights_sol)\n",
    "\n",
    "plt.figure(figsize=(20, 6))\n",
    "plt.plot(ret_mean_weeks_sol, label='Solution')\n",
    "plt.plot(ret_mean_weeks_fw, label='Frank-Wolfe')\n",
    "plt.plot(ret_mean_weeks_pairwise, label='Pairwise Frank-Wolfe')\n",
    "plt.title('Return over 265 week')\n",
    "plt.xlabel('Week')\n",
    "plt.ylabel('Return')\n",
    "\n",
    "plt.xticks(np.arange(0, 251, 10))\n",
    "plt.xticks(np.arange(0, 1.4, 0.1))\n",
    "\n",
    "plt.legend()\n",
    "plt.show()"
   ]
  }
 ],
 "metadata": {
  "interpreter": {
   "hash": "838b1b9000f4cb0d987da8e8962d4e79c88ffc69109dc6c344c96c61ce04b6b0"
  },
  "kernelspec": {
   "display_name": "Python 3.9.13 64-bit ('base': conda)",
   "name": "python3"
  },
  "language_info": {
   "codemirror_mode": {
    "name": "ipython",
    "version": 3
   },
   "file_extension": ".py",
   "mimetype": "text/x-python",
   "name": "python",
   "nbconvert_exporter": "python",
   "pygments_lexer": "ipython3",
   "version": "3.9.13"
  },
  "orig_nbformat": 4
 },
 "nbformat": 4,
 "nbformat_minor": 2
}
